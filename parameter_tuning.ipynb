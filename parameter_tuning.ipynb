{
 "cells": [
  {
   "cell_type": "code",
   "execution_count": 1,
   "metadata": {},
   "outputs": [],
   "source": [
    "from __future__ import print_function\n",
    "import torch\n",
    "import numpy as np\n",
    "import sinkhorn\n",
    "import matplotlib.pyplot as plt\n",
    "import torch.nn as nn\n",
    "import torch.nn.functional as F\n",
    "import train\n",
    "import argparse\n",
    "import timeit\n",
    "import util\n",
    "from linear_run import *\n",
    "import itertools\n",
    "\n",
    "one = torch.FloatTensor([1])"
   ]
  },
  {
   "cell_type": "code",
   "execution_count": 2,
   "metadata": {},
   "outputs": [],
   "source": [
    "def average(v, stepsize=1e-3):\n",
    "    \"\"\"\n",
    "    Average time series on intervals of size stepsize\n",
    "    \"\"\"\n",
    "    v = v[v[:,1].argsort()] \n",
    "    h = np.histogram(v[:, 1], bins=np.arange(v[0,1], v[-1, 1], stepsize))\n",
    "    h_ind = np.where(h[0])\n",
    "    ind = np.cumsum(h[0][h_ind])\n",
    "    ind = np.concatenate((np.zeros(1), ind)).astype(int)\n",
    "    h = h[1][h_ind]\n",
    "    z = [np.mean(v[ind[i]:ind[i+1], 0]) for i in range(len(h))]\n",
    "    return h, z"
   ]
  },
  {
   "cell_type": "code",
   "execution_count": 3,
   "metadata": {},
   "outputs": [],
   "source": [
    "K = 100\n",
    "dim = 20\n",
    "lamb = 0.5\n",
    "expstart = 1\n",
    "manual_seed = 137\n",
    "np.random.seed(seed=manual_seed)\n",
    "torch.manual_seed(manual_seed)\n",
    "nexp = 200\n",
    "cost = sinkhorn._linear_cost\n",
    "losses = {}\n",
    "\n",
    "device = torch.device(\"cpu\")\n",
    "#device = torch.device(\"cuda:0\")"
   ]
  },
  {
   "cell_type": "markdown",
   "metadata": {},
   "source": [
    "# Sinkhorn"
   ]
  },
  {
   "cell_type": "code",
   "execution_count": 4,
   "metadata": {},
   "outputs": [],
   "source": [
    "sinkiterrange = [5]\n",
    "sinklrrange = [10.]"
   ]
  },
  {
   "cell_type": "code",
   "execution_count": 5,
   "metadata": {},
   "outputs": [],
   "source": [
    "losses['sinkhorn'] = {}\n",
    "for s in itertools.product(sinkiterrange, sinklrrange):\n",
    "    sinkiter, sinklr = s[0], s[1]\n",
    "    losses['sinkhorn'][(sinkiter, sinklr)] = []\n",
    "    for exp in range(expstart, expstart+nexp):\n",
    "        l = np.load('experiments/sinkhorn/{0}_lamb{1}_k{2}_dim{3}_sinkiter{4}_lr{5}_sinkhorn_{6}/losses.npy'.format(exp, lamb, K, dim, sinkiter, sinklr, device))\n",
    "        t = np.load('experiments/sinkhorn/{0}_lamb{1}_k{2}_dim{3}_sinkiter{4}_lr{5}_sinkhorn_{6}/time.npy'.format(exp, lamb, K, dim, sinkiter, sinklr, device))\n",
    "        losses['sinkhorn'][(sinkiter, sinklr)] += zip(l, t)"
   ]
  },
  {
   "cell_type": "code",
   "execution_count": 6,
   "metadata": {},
   "outputs": [
    {
     "data": {
      "image/png": "[encoded data removed]",
      "text/plain": [
       "<Figure size 432x288 with 1 Axes>"
      ]
     },
     "metadata": {},
     "output_type": "display_data"
    }
   ],
   "source": [
    "for sinkiter in sinkiterrange:\n",
    "    plt.figure()\n",
    "    for sinklr in sinklrrange:\n",
    "        h, z = average(np.array(losses['sinkhorn'][(sinkiter, sinklr)]), stepsize=5e-2)\n",
    "        plt.plot(h, z, label='LR:{0:.2f}'.format(sinklr))\n",
    "    plt.legend()\n",
    "    plt.title('{}, Sinkiter = {}'.format(device, sinkiter))\n",
    "    plt.show()"
   ]
  },
  {
   "cell_type": "raw",
   "metadata": {},
   "source": [
    "for sinklr in sinklrrange:\n",
    "    plt.figure()\n",
    "    for sinkiter in sinkiterrange:\n",
    "        h, z = average(np.array(losses['sinkhorn'][(sinkiter, sinklr)]), stepsize=5e-2)\n",
    "        plt.plot(h, z, label='Sinkiter={}'.format(sinkiter))\n",
    "    plt.legend()\n",
    "    plt.title('LR = {0:.2f}'.format(sinklr))\n",
    "    plt.show()"
   ]
  },
  {
   "cell_type": "markdown",
   "metadata": {},
   "source": [
    "# Descent"
   ]
  },
  {
   "cell_type": "code",
   "execution_count": 7,
   "metadata": {},
   "outputs": [],
   "source": [
    "descentlrrange = [1e-5, 10.]"
   ]
  },
  {
   "cell_type": "code",
   "execution_count": 8,
   "metadata": {},
   "outputs": [],
   "source": [
    "losses['descent'] = {}\n",
    "\n",
    "for descentlr in descentlrrange:\n",
    "    losses['descent'][descentlr] = []\n",
    "    for exp in range(expstart, expstart+nexp):\n",
    "        l = np.load('experiments/descent/{0}_lamb{1}_k{2}_dim{3}_lr{4}_descent_{5}/losses.npy'.format(exp, lamb, K, dim, descentlr, device))\n",
    "        t = np.load('experiments/descent/{0}_lamb{1}_k{2}_dim{3}_lr{4}_descent_{5}/time.npy'.format(exp, lamb, K, dim, descentlr, device))\n",
    "        losses['descent'][descentlr] += zip(l,t)"
   ]
  },
  {
   "cell_type": "code",
   "execution_count": 9,
   "metadata": {},
   "outputs": [
    {
     "data": {
      "image/png": "[encoded data removed]",
      "text/plain": [
       "<Figure size 432x288 with 1 Axes>"
      ]
     },
     "metadata": {},
     "output_type": "display_data"
    }
   ],
   "source": [
    "plt.figure()\n",
    "for descentlr in descentlrrange:\n",
    "    h, z = average(np.array(losses['descent'][descentlr]), stepsize=5e-2)\n",
    "    plt.plot(h,z, label='lr={0:.4f}'.format(descentlr))\n",
    "plt.legend()\n",
    "plt.title(device)\n",
    "plt.show()"
   ]
  },
  {
   "cell_type": "markdown",
   "metadata": {},
   "source": [
    "# DC"
   ]
  },
  {
   "cell_type": "code",
   "execution_count": 10,
   "metadata": {},
   "outputs": [],
   "source": [
    "dclrrange = [1e-4, 1e-5]\n",
    "dcdualiterrange = [5]"
   ]
  },
  {
   "cell_type": "code",
   "execution_count": 11,
   "metadata": {},
   "outputs": [],
   "source": [
    "losses['dc'] = {}\n",
    "for s in itertools.product(dcdualiterrange, dclrrange):\n",
    "    dcdualiter, dclr = s[0], s[1]\n",
    "    losses['dc'][(dcdualiter, dclr)] = []\n",
    "    for exp in range(expstart, expstart+nexp):\n",
    "        l = np.load('experiments/dc/{0}_lamb{1}_k{2}_dim{3}_dualiter{4}_lr{5}_dc_{6}/losses.npy'.format(exp, lamb, K, dim, dcdualiter, dclr, device))\n",
    "        t = np.load('experiments/dc/{0}_lamb{1}_k{2}_dim{3}_dualiter{4}_lr{5}_dc_{6}/time.npy'.format(exp, lamb, K, dim, dcdualiter, dclr, device))\n",
    "        losses['dc'][(dcdualiter, dclr)] += zip(l, t)    "
   ]
  },
  {
   "cell_type": "code",
   "execution_count": 12,
   "metadata": {},
   "outputs": [
    {
     "data": {
      "image/png": "[encoded data removed]",
      "text/plain": [
       "<Figure size 432x288 with 1 Axes>"
      ]
     },
     "metadata": {},
     "output_type": "display_data"
    }
   ],
   "source": [
    "for dcdualiter in dcdualiterrange:\n",
    "    plt.figure()\n",
    "    for dclr in dclrrange:\n",
    "        h, z = average(np.array(losses['dc'][(dcdualiter, dclr)]), stepsize=5e-2)\n",
    "        plt.plot(h, z, label='LR:{0:.5f}'.format(dclr))\n",
    "    plt.legend()\n",
    "    plt.title('{}, Dualiter = {}'.format(device, dcdualiter))\n",
    "    plt.show()"
   ]
  },
  {
   "cell_type": "raw",
   "metadata": {},
   "source": [
    "for dclr in dclrrange:\n",
    "    plt.figure()\n",
    "    for dcdualiter in dcdualiterrange:\n",
    "        h, z = average(np.array(losses['dc'][(dcdualiter, dclr)]), stepsize=5e-2)\n",
    "        plt.plot(h, z, label='dcdualiter = {}'.format(dcdualiter))\n",
    "    plt.legend()\n",
    "    plt.xlim(0, 2)\n",
    "    plt.title('LR:{0:.2f}'.format(100*dclr))\n",
    "    plt.show()"
   ]
  },
  {
   "cell_type": "markdown",
   "metadata": {},
   "source": [
    "# Plot all"
   ]
  },
  {
   "cell_type": "code",
   "execution_count": 13,
   "metadata": {},
   "outputs": [
    {
     "name": "stdout",
     "output_type": "stream",
     "text": [
      "[5]\n",
      "[10.0]\n",
      "[1e-05, 10.0]\n",
      "[5]\n",
      "[0.0001, 1e-05]\n"
     ]
    }
   ],
   "source": [
    "print(sinkiterrange)\n",
    "print(sinklrrange)\n",
    "print(descentlrrange)\n",
    "print(dcdualiterrange)\n",
    "print(dclrrange)"
   ]
  },
  {
   "cell_type": "code",
   "execution_count": 14,
   "metadata": {},
   "outputs": [],
   "source": [
    "plt.rc('text', usetex=True)\n",
    "plt.rc('font', family='serif')"
   ]
  },
  {
   "cell_type": "code",
   "execution_count": 15,
   "metadata": {},
   "outputs": [
    {
     "data": {
      "image/png": "[encoded data removed]",
      "text/plain": [
       "<Figure size 432x288 with 1 Axes>"
      ]
     },
     "metadata": {},
     "output_type": "display_data"
    }
   ],
   "source": [
    "plt.figure()\n",
    "\n",
    "sinkiter, sinklr = 5, 10.\n",
    "h, z = average(np.array(losses['sinkhorn'][(sinkiter, sinklr)]), stepsize=5e-2)\n",
    "plt.plot(h, z,'g', label='Sinkhorn lr={}'.format((int)(sinklr)))\n",
    "\n",
    "descentlr = 1e-5\n",
    "h, z = average(np.array(losses['descent'][descentlr]), stepsize=5e-2)\n",
    "plt.plot(h,z,'b', label='Descent lr={}'.format(descentlr))\n",
    "\n",
    "descentlr = 10.\n",
    "h, z = average(np.array(losses['descent'][descentlr]), stepsize=5e-2)\n",
    "plt.plot(h,z,'m', label='Descent lr={}'.format((int)(descentlr)))\n",
    "\n",
    "dcdualiter, dclr = 5., 1e-4\n",
    "h, z = average(np.array(losses['dc'][(dcdualiter, dclr)]), stepsize=5e-2)\n",
    "plt.plot(h, z, 'r', label='DC lr=1e-4')\n",
    "\n",
    "dcdualiter, dclr = 5, 1e-5\n",
    "h, z = average(np.array(losses['dc'][(dcdualiter, dclr)]), stepsize=5e-2)\n",
    "plt.plot(h, z, 'orange', label='DC lr={}'.format(dclr))\n",
    "    \n",
    "plt.legend(fontsize=12)\n",
    "plt.xlabel('CPU time (s)',fontsize=16)\n",
    "plt.ylabel('Total Loss',fontsize=16)\n",
    "plt.xlim(0, 8)\n",
    "#plt.ylim(-0.55, 0.5)\n",
    "#plt.title('{}, Sinkiter = {}'.format(device, sinkiter))\n",
    "plt.savefig('figures/lamb{}_K{}_dim{}.png'.format(lamb, K, dim))\n",
    "plt.show()"
   ]
  },
  {
   "cell_type": "code",
   "execution_count": null,
   "metadata": {},
   "outputs": [],
   "source": []
  }
 ],
 "metadata": {
  "kernelspec": {
   "display_name": "Python 3",
   "language": "python",
   "name": "python3"
  },
  "language_info": {
   "codemirror_mode": {
    "name": "ipython",
    "version": 3
   },
   "file_extension": ".py",
   "mimetype": "text/x-python",
   "name": "python",
   "nbconvert_exporter": "python",
   "pygments_lexer": "ipython3",
   "version": "3.6.5"
  }
 },
 "nbformat": 4,
 "nbformat_minor": 2
}
