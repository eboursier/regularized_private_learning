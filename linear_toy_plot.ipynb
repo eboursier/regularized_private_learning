{
 "cells": [
  {
   "cell_type": "code",
   "execution_count": 1,
   "metadata": {},
   "outputs": [],
   "source": [
    "from __future__ import print_function\n",
    "import torch\n",
    "import numpy as np\n",
    "import sinkhorn\n",
    "import matplotlib.pyplot as plt\n",
    "import torch.nn as nn\n",
    "import torch.nn.functional as F\n",
    "import train\n",
    "import argparse\n",
    "import timeit\n",
    "import util\n",
    "from linear_run import *\n",
    "import itertools\n",
    "\n",
    "one = torch.FloatTensor([1])"
   ]
  },
  {
   "cell_type": "code",
   "execution_count": 2,
   "metadata": {},
   "outputs": [],
   "source": [
    "def average(v, stepsize=1e-3):\n",
    "    \"\"\"\n",
    "    Average time series on intervals of size stepsize\n",
    "    \"\"\"\n",
    "    v = v[v[:,1].argsort()] \n",
    "    h = np.histogram(v[:, 1], bins=np.arange(v[0,1], v[-1, 1], stepsize))\n",
    "    h_ind = np.where(h[0])\n",
    "    ind = np.cumsum(h[0][h_ind])\n",
    "    ind = np.concatenate((np.zeros(1), ind)).astype(int)\n",
    "    h = h[1][h_ind]\n",
    "    z = [np.mean(v[ind[i]:ind[i+1], 0]) for i in range(len(h))]\n",
    "    return h, z"
   ]
  },
  {
   "cell_type": "code",
   "execution_count": 3,
   "metadata": {},
   "outputs": [],
   "source": [
    "K = 100\n",
    "dimlambrange = [(20, 0.1), (20, 0.5), (40, 0.1)]\n",
    "expstart = 1\n",
    "manual_seed = 137\n",
    "np.random.seed(seed=manual_seed)\n",
    "torch.manual_seed(manual_seed)\n",
    "nexp = 10\n",
    "cost = sinkhorn._linear_cost\n",
    "losses = {}\n",
    "\n",
    "device = torch.device(\"cpu\")\n",
    "#device = torch.device(\"cuda:0\")"
   ]
  },
  {
   "cell_type": "markdown",
   "metadata": {},
   "source": [
    "# Sinkhorn"
   ]
  },
  {
   "cell_type": "code",
   "execution_count": 4,
   "metadata": {},
   "outputs": [],
   "source": [
    "sinkiterrange = [5]\n",
    "sinklrrange = [1., 10.]"
   ]
  },
  {
   "cell_type": "code",
   "execution_count": 5,
   "metadata": {},
   "outputs": [],
   "source": [
    "losses['sinkhorn'] = {}\n",
    "for s in itertools.product(sinkiterrange, sinklrrange):\n",
    "    sinkiter, sinklr = s[0], s[1]\n",
    "    for dim,lamb in dimlambrange:\n",
    "        losses['sinkhorn'][(dim, lamb, sinkiter, sinklr)] = []\n",
    "        for exp in range(expstart, expstart+nexp):\n",
    "            l = np.load('experiments/sinkhorn/{0}_lamb{1}_k{2}_dim{3}_sinkiter{4}_lr{5}_sinkhorn_{6}/losses.npy'.format(exp, lamb, K, dim, sinkiter, sinklr, device))\n",
    "            t = np.load('experiments/sinkhorn/{0}_lamb{1}_k{2}_dim{3}_sinkiter{4}_lr{5}_sinkhorn_{6}/time.npy'.format(exp, lamb, K, dim, sinkiter, sinklr, device))\n",
    "            losses['sinkhorn'][(dim, lamb, sinkiter, sinklr)] += zip(l, t)"
   ]
  },
  {
   "cell_type": "markdown",
   "metadata": {},
   "source": [
    "# Descent"
   ]
  },
  {
   "cell_type": "code",
   "execution_count": 6,
   "metadata": {},
   "outputs": [],
   "source": [
    "descentlrrange = [1e-5, 10.]"
   ]
  },
  {
   "cell_type": "code",
   "execution_count": 7,
   "metadata": {},
   "outputs": [],
   "source": [
    "losses['descent'] = {}\n",
    "\n",
    "for descentlr in descentlrrange:\n",
    "    for dim,lamb in dimlambrange:\n",
    "        losses['descent'][(dim, lamb, descentlr)] = []\n",
    "        for exp in range(expstart, expstart+nexp):\n",
    "            l = np.load('experiments/descent/{0}_lamb{1}_k{2}_dim{3}_lr{4}_descent_{5}/losses.npy'.format(exp, lamb, K, dim, descentlr, device))\n",
    "            t = np.load('experiments/descent/{0}_lamb{1}_k{2}_dim{3}_lr{4}_descent_{5}/time.npy'.format(exp, lamb, K, dim, descentlr, device))\n",
    "            losses['descent'][(dim, lamb, descentlr)] += zip(l,t)"
   ]
  },
  {
   "cell_type": "markdown",
   "metadata": {},
   "source": [
    "# DC"
   ]
  },
  {
   "cell_type": "code",
   "execution_count": 8,
   "metadata": {},
   "outputs": [],
   "source": [
    "dclrrange = [1e-5, 1e-4]\n",
    "dcdualiterrange = [5]"
   ]
  },
  {
   "cell_type": "code",
   "execution_count": 9,
   "metadata": {},
   "outputs": [],
   "source": [
    "losses['dc'] = {}\n",
    "for s in itertools.product(dcdualiterrange, dclrrange):\n",
    "    dcdualiter, dclr = s[0], s[1]\n",
    "    for dim,lamb in dimlambrange:\n",
    "        losses['dc'][(dim, lamb, dcdualiter, dclr)] = []\n",
    "        for exp in range(expstart, expstart+nexp):\n",
    "            l = np.load('experiments/dc/{0}_lamb{1}_k{2}_dim{3}_dualiter{4}_lr{5}_dc_{6}/losses.npy'.format(exp, lamb, K, dim, dcdualiter, dclr, device))\n",
    "            t = np.load('experiments/dc/{0}_lamb{1}_k{2}_dim{3}_dualiter{4}_lr{5}_dc_{6}/time.npy'.format(exp, lamb, K, dim, dcdualiter, dclr, device))\n",
    "            losses['dc'][(dim, lamb, dcdualiter, dclr)] += zip(l, t)    "
   ]
  },
  {
   "cell_type": "markdown",
   "metadata": {},
   "source": [
    "# Plot all"
   ]
  },
  {
   "cell_type": "code",
   "execution_count": 10,
   "metadata": {},
   "outputs": [],
   "source": [
    "plt.rcParams.update({\n",
    "    \"font.family\": \"serif\",  # use serif/main font for text elements\n",
    "    \"text.usetex\": True,     # use inline math for ticks\n",
    "    \"pgf.rcfonts\": False,    # don't setup fonts from rc parameters\n",
    "    \"pgf.preamble\": [\n",
    "         \"\\\\usepackage{units}\",          # load additional packages\n",
    "         \"\\\\usepackage{metalogo}\",\n",
    "         \"\\\\usepackage{unicode-math}\",   # unicode math setup\n",
    "         r\"\\setmathfont{xits-math.otf}\",\n",
    "         r\"\\setmainfont{DejaVu Serif}\",  # serif font via preamble\n",
    "         ]\n",
    "})"
   ]
  },
  {
   "cell_type": "code",
   "execution_count": null,
   "metadata": {},
   "outputs": [],
   "source": [
    "fig = plt.figure()\n",
    "\n",
    "##################\n",
    "for i, z in enumerate(dimlambrange):\n",
    "    dim, lamb = z\n",
    "    plt.subplot(131+i)\n",
    "    if i == 0:\n",
    "        l = []\n",
    "    for s in itertools.product(sinkiterrange, sinklrrange):\n",
    "        sinkiter, sinklr = s[0], s[1]        \n",
    "        h, z = average(np.array(losses['sinkhorn'][(dim, lamb, sinkiter, sinklr)]), stepsize=5e-2)\n",
    "        lz, = plt.plot(h, z)\n",
    "        if i==0:\n",
    "            l.append(lz)\n",
    "        \n",
    "    for descentlr in descentlrrange:\n",
    "        h, z = average(np.array(losses['descent'][(dim, lamb, descentlr)]), stepsize=5e-2)\n",
    "        lz, = plt.plot(h,z)\n",
    "        if i==0:\n",
    "            l.append(lz)\n",
    "            \n",
    "    for s in itertools.product(dcdualiterrange, dclrrange):\n",
    "        dcdualiter, dclr = s[0], s[1]\n",
    "        h, z = average(np.array(losses['dc'][(dim, lamb, dcdualiter, dclr)]), stepsize=5e-2)\n",
    "        lz, = plt.plot(h, z)\n",
    "        if i==0:\n",
    "            l.append(lz)\n",
    "\n",
    "    plt.title('$\\lambda={}$ and $d={}$'.format(lamb, dim), fontsize=12)\n",
    "    if i==0:\n",
    "        plt.ylabel('Total Loss',fontsize=16)\n",
    "    if i==1:\n",
    "        plt.ylim(-0.2, 0.5)\n",
    "        plt.xlabel('CPU time (s)',fontsize=12)\n",
    "    #else:\n",
    "        #plt.tick_params(axis='y', labelleft=False)\n",
    "    plt.xlim(0, 8)\n",
    "    plt.grid(alpha=0.5)\n",
    "\n",
    "labels = ['Sink lr=1', 'Sink lr=10', 'Des lr=$10^{-5}$', 'Des lr=10', 'DC lr=$10^{-5}$', 'DC lr=$10^{-4}$']\n",
    "plt.subplots_adjust(left=0.125, right=0.75, wspace=0.25, hspace=0)\n",
    "fig.set_figheight(2)\n",
    "fig.set_figwidth(10)\n",
    "fig.legend(l, labels, 'right', fontsize=12)\n",
    "plt.savefig('figures/linear-toy.pgf')\n",
    "plt.show()"
   ]
  },
  {
   "cell_type": "code",
   "execution_count": 12,
   "metadata": {},
   "outputs": [
    {
     "data": {
      "text/plain": [
       "[1e-05, 0.0001]"
      ]
     },
     "execution_count": 12,
     "metadata": {},
     "output_type": "execute_result"
    }
   ],
   "source": [
    "dclrrange"
   ]
  },
  {
   "cell_type": "code",
   "execution_count": null,
   "metadata": {},
   "outputs": [],
   "source": []
  },
  {
   "cell_type": "code",
   "execution_count": null,
   "metadata": {},
   "outputs": [],
   "source": []
  },
  {
   "cell_type": "code",
   "execution_count": null,
   "metadata": {},
   "outputs": [],
   "source": []
  }
 ],
 "metadata": {
  "kernelspec": {
   "display_name": "Python 3",
   "language": "python",
   "name": "python3"
  },
  "language_info": {
   "codemirror_mode": {
    "name": "ipython",
    "version": 3
   },
   "file_extension": ".py",
   "mimetype": "text/x-python",
   "name": "python",
   "nbconvert_exporter": "python",
   "pygments_lexer": "ipython3",
   "version": "3.6.5"
  }
 },
 "nbformat": 4,
 "nbformat_minor": 2
}
