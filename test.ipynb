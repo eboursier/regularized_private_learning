{
 "cells": [
  {
   "cell_type": "code",
   "execution_count": 1,
   "metadata": {},
   "outputs": [],
   "source": [
    "import torch\n",
    "import numpy as np\n",
    "import auction\n",
    "import torch.nn as nn\n",
    "import torch.nn.functional as F\n",
    "import timeit\n",
    "import sinkhorn\n",
    "import matplotlib.pyplot as plt"
   ]
  },
  {
   "cell_type": "code",
   "execution_count": 2,
   "metadata": {},
   "outputs": [
    {
     "data": {
      "text/plain": [
       "<torch._C.Generator at 0x7f8903ff1b30>"
      ]
     },
     "execution_count": 2,
     "metadata": {},
     "output_type": "execute_result"
    }
   ],
   "source": [
    "manual_seed = 137\n",
    "np.random.seed(seed=manual_seed)\n",
    "torch.manual_seed(manual_seed)"
   ]
  },
  {
   "cell_type": "code",
   "execution_count": 3,
   "metadata": {},
   "outputs": [
    {
     "name": "stdout",
     "output_type": "stream",
     "text": [
      "10000\n",
      "tensor([0.1000, 0.2000, 0.3000, 0.4000, 0.5000, 0.6000, 0.7000, 0.8000, 0.9000,\n",
      "        1.0000])\n",
      "tensor([0.1000, 0.1000, 0.1000, 0.1000, 0.1000, 0.1000, 0.1000, 0.1000, 0.1000,\n",
      "        0.1000])\n"
     ]
    }
   ],
   "source": [
    "#distrib = torch.distributions.Exponential(torch.tensor([1.0]))\n",
    "size_batch = (int)(10**4)\n",
    "print(size_batch)\n",
    "K=10\n",
    "#y = torch.tensor([0.5, 1])\n",
    "y = torch.linspace(1./K, 1., K) # discretization of uniform distribution\n",
    "beta= torch.ones(K)/K\n",
    "print(y)\n",
    "print(beta)"
   ]
  },
  {
   "cell_type": "code",
   "execution_count": 4,
   "metadata": {},
   "outputs": [],
   "source": [
    "net = auction.BidderStrategy(size_layer=100, nactions=12)"
   ]
  },
  {
   "cell_type": "code",
   "execution_count": 5,
   "metadata": {},
   "outputs": [
    {
     "data": {
      "text/plain": [
       "Parameter containing:\n",
       "tensor([[ 2.6828e-03,  3.2739e-03,  2.0593e-03, -3.6023e-04,  7.8904e-04,\n",
       "          2.3994e-03,  1.5555e-03,  1.8953e-03,  2.6183e-03,  3.0506e-03,\n",
       "          3.9563e-03,  2.4867e-03,  2.4430e-03,  3.4211e-03,  1.8198e-03,\n",
       "          1.4487e-03,  1.7990e-03,  2.5922e-03,  2.2571e-03,  2.0627e-03,\n",
       "          1.5421e-03,  2.0135e-03,  1.8130e-03,  3.1192e-04,  8.1580e-04,\n",
       "          2.1807e-03,  3.2378e-03,  1.1406e-03,  1.2194e-03,  9.3078e-04,\n",
       "          1.4787e-03,  1.4434e-03,  1.8297e-03,  6.9470e-04,  8.7907e-04,\n",
       "          6.1963e-04,  8.8817e-04,  2.2209e-03,  3.1621e-03,  2.4993e-04,\n",
       "          1.6237e-03,  1.5047e-03,  9.6659e-04,  3.0214e-03,  1.5383e-03,\n",
       "          1.9751e-03,  2.1705e-03,  1.8892e-03,  2.2922e-03,  1.1585e-03,\n",
       "          2.8189e-03,  2.6735e-03,  1.3160e-03,  2.2532e-03, -3.2562e-05,\n",
       "          1.9620e-03,  1.8526e-03,  9.0057e-04,  1.2435e-03,  1.0705e-03,\n",
       "          1.9442e-03,  1.9257e-03,  2.2064e-03,  9.2227e-04,  2.2664e-03,\n",
       "          3.1297e-04,  1.3377e-03,  1.8051e-03,  1.4337e-03,  2.0137e-03,\n",
       "         -3.1731e-04,  3.0347e-03,  2.4125e-03,  6.9455e-04,  2.2098e-03,\n",
       "          1.7266e-03,  1.2239e-03,  1.0583e-03,  1.0667e-03,  1.3329e-04,\n",
       "          2.6582e-03,  1.1176e-03,  5.1694e-04,  3.1108e-03,  4.5656e-04,\n",
       "          1.3477e-03,  4.0601e-04,  2.0043e-03,  1.3513e-03,  1.0614e-03,\n",
       "          1.6067e-03,  2.4893e-03,  2.3521e-03,  8.8121e-04,  2.6535e-03,\n",
       "          1.9970e-03,  2.6112e-03,  3.3914e-03,  1.3878e-03,  2.7078e-03]],\n",
       "       requires_grad=True)"
      ]
     },
     "execution_count": 5,
     "metadata": {},
     "output_type": "execute_result"
    }
   ],
   "source": [
    "net.fc2[0].weight"
   ]
  },
  {
   "cell_type": "code",
   "execution_count": 6,
   "metadata": {},
   "outputs": [],
   "source": [
    "distrib = torch.distributions.Exponential(torch.tensor(1.))"
   ]
  },
  {
   "cell_type": "code",
   "execution_count": 7,
   "metadata": {},
   "outputs": [
    {
     "name": "stdout",
     "output_type": "stream",
     "text": [
      "torch.Size([10000, 1])\n"
     ]
    }
   ],
   "source": [
    "input = torch.zeros((size_batch, 1),requires_grad=True)\n",
    "samples = distrib.sample((size_batch, 1))\n",
    "input.data = samples.clone()\n",
    "print(input.size())"
   ]
  },
  {
   "cell_type": "code",
   "execution_count": 8,
   "metadata": {},
   "outputs": [
    {
     "name": "stdout",
     "output_type": "stream",
     "text": [
      "done in 0.10155601499991462 s\n",
      "tensor([[0.9943, 0.9693, 0.9442, 0.9192, 0.8941, 0.8691, 0.8440, 0.8190, 0.7939,\n",
      "         0.7689],\n",
      "        [1.0080, 0.9701, 0.9322, 0.8942, 0.8563, 0.8184, 0.7804, 0.7425, 0.7046,\n",
      "         0.6666],\n",
      "        [1.0814, 1.0190, 0.9565, 0.8941, 0.8317, 0.7693, 0.7068, 0.6444, 0.5820,\n",
      "         0.5195],\n",
      "        [1.0675, 1.0051, 0.9427, 0.8803, 0.8179, 0.7555, 0.6931, 0.6307, 0.5683,\n",
      "         0.5058],\n",
      "        [1.1544, 1.0841, 1.0138, 0.9436, 0.8733, 0.8030, 0.7327, 0.6624, 0.5921,\n",
      "         0.5219],\n",
      "        [1.2847, 1.1994, 1.1142, 1.0289, 0.9436, 0.8584, 0.7731, 0.6878, 0.6026,\n",
      "         0.5173],\n",
      "        [1.1845, 1.1028, 1.0211, 0.9395, 0.8578, 0.7761, 0.6945, 0.6128, 0.5311,\n",
      "         0.4495],\n",
      "        [1.1961, 1.1184, 1.0406, 0.9629, 0.8851, 0.8074, 0.7296, 0.6519, 0.5742,\n",
      "         0.4964],\n",
      "        [1.3231, 1.2417, 1.1603, 1.0790, 0.9976, 0.9163, 0.8349, 0.7536, 0.6722,\n",
      "         0.5908],\n",
      "        [1.3148, 1.2212, 1.1277, 1.0341, 0.9406, 0.8470, 0.7534, 0.6599, 0.5663,\n",
      "         0.4728],\n",
      "        [1.3737, 1.2933, 1.2129, 1.1325, 1.0520, 0.9716, 0.8912, 0.8108, 0.7303,\n",
      "         0.6499],\n",
      "        [1.4516, 1.3599, 1.2682, 1.1764, 1.0847, 0.9930, 0.9012, 0.8095, 0.7177,\n",
      "         0.6260]], grad_fn=<CopySlices>)\n"
     ]
    }
   ],
   "source": [
    "time = timeit.default_timer()\n",
    "C = auction.LazySecondPriceLoss(net, input, y, size_batch, distribution=\"exponential\")\n",
    "print('done in {0} s'.format(timeit.default_timer()-time))\n",
    "print(C)"
   ]
  },
  {
   "cell_type": "markdown",
   "metadata": {},
   "source": [
    "# Sinkhorn"
   ]
  },
  {
   "cell_type": "raw",
   "metadata": {},
   "source": [
    "lamb = 0.05\n",
    "niter_sink = 20\n",
    "err_threshold = 1e-3"
   ]
  },
  {
   "cell_type": "raw",
   "metadata": {},
   "source": [
    "alpha, _ = net(input)"
   ]
  },
  {
   "cell_type": "raw",
   "metadata": {},
   "source": [
    "loss, gamma = sinkhorn.sinkhorn_loss_primal(alpha, C, beta, y, lamb, niter=niter_sink, cost=\"matrix\", err_threshold=err_threshold, verbose=False)"
   ]
  },
  {
   "cell_type": "raw",
   "metadata": {},
   "source": [
    "print(alpha)\n",
    "print()\n",
    "print(torch.sum(gamma, dim=1))\n",
    "print('--'*20)\n",
    "print(beta)\n",
    "print(torch.sum(gamma, dim=0))"
   ]
  },
  {
   "cell_type": "markdown",
   "metadata": {},
   "source": [
    "## Train network"
   ]
  },
  {
   "cell_type": "code",
   "execution_count": 30,
   "metadata": {},
   "outputs": [],
   "source": [
    "net = auction.BidderStrategy(size_layer=100, nactions=12)\n",
    "net.projection()\n",
    "lamb = 0.0005\n",
    "niter_sink = 1000\n",
    "niter = 1000\n",
    "lr = 0.01\n",
    "batch = 1000"
   ]
  },
  {
   "cell_type": "code",
   "execution_count": 31,
   "metadata": {},
   "outputs": [
    {
     "name": "stdout",
     "output_type": "stream",
     "text": [
      "Loss at iterations 100: 0.7401291131973267\n",
      "Loss at iterations 200: 0.7561506628990173\n",
      "Loss at iterations 300: 0.742348313331604\n",
      "Loss at iterations 400: 0.7492515444755554\n",
      "Loss at iterations 500: 0.754898726940155\n",
      "Loss at iterations 600: 0.7454567551612854\n",
      "Loss at iterations 700: 0.7646266222000122\n",
      "Loss at iterations 800: 0.7527252435684204\n",
      "Loss at iterations 900: 0.7478716373443604\n",
      "Loss at iterations 1000: 0.7563729882240295\n",
      "done in 246.7333107610002 s\n"
     ]
    }
   ],
   "source": [
    "loss_profile = auction.train_sinkhorn_auction(net, y, beta, lamb=lamb, niter_sink=niter_sink, max_iter=niter, \n",
    "                                              learning_rate=lr, err_threshold=1e-3, verbose=True, verbose_freq=100, size_batch=batch, experiment=1)"
   ]
  },
  {
   "cell_type": "code",
   "execution_count": 32,
   "metadata": {},
   "outputs": [
    {
     "data": {
      "text/plain": [
       "[<matplotlib.lines.Line2D at 0x7f88fa6a19b0>]"
      ]
     },
     "execution_count": 32,
     "metadata": {},
     "output_type": "execute_result"
    },
    {
     "data": {
      "image/png": "[encoded data removed]",
      "text/plain": [
       "<Figure size 432x288 with 1 Axes>"
      ]
     },
     "metadata": {},
     "output_type": "display_data"
    }
   ],
   "source": [
    "plt.plot(loss_profile)"
   ]
  },
  {
   "cell_type": "code",
   "execution_count": 33,
   "metadata": {},
   "outputs": [],
   "source": [
    "loss, gamma, C, _, _ = auction.eval(net, y, beta, lamb=lamb, niter_sink=(int)(1e5), size_batch=100000)"
   ]
  },
  {
   "cell_type": "code",
   "execution_count": 34,
   "metadata": {},
   "outputs": [
    {
     "name": "stdout",
     "output_type": "stream",
     "text": [
      "True loss:0.7487383484840393\n",
      "Utility loss:0.747927725315094\n",
      "Privacy loss:1.6213047504425049\n"
     ]
    }
   ],
   "source": [
    "print('True loss:{}'.format(loss))\n",
    "print('Utility loss:{}'.format(torch.sum(gamma*C)))\n",
    "alpha = torch.sum(gamma, dim=1)\n",
    "print('Privacy loss:{}'.format(sinkhorn._KL(alpha, beta, gamma, epsilon=0)))"
   ]
  },
  {
   "cell_type": "code",
   "execution_count": 35,
   "metadata": {},
   "outputs": [
    {
     "data": {
      "image/png": "[encoded data removed]",
      "text/plain": [
       "<Figure size 432x288 with 1 Axes>"
      ]
     },
     "metadata": {},
     "output_type": "display_data"
    }
   ],
   "source": [
    "plt.figure()\n",
    "plt.title('Joint distribution heatmap')\n",
    "plt.xlabel('Type y_j')\n",
    "plt.ylabel('Action beta_j')\n",
    "plt.imshow(gamma.detach().numpy(), cmap='hot')\n",
    "#plt.savefig('figures/gamma_heatmap_lamb{}.png'.format(lamb))\n",
    "plt.show()"
   ]
  },
  {
   "cell_type": "code",
   "execution_count": 36,
   "metadata": {},
   "outputs": [
    {
     "data": {
      "image/png": "[encoded data removed]",
      "text/plain": [
       "<Figure size 432x288 with 1 Axes>"
      ]
     },
     "metadata": {},
     "output_type": "display_data"
    }
   ],
   "source": [
    "plt.imshow(C.detach().numpy(), cmap='hot')\n",
    "plt.show()"
   ]
  },
  {
   "cell_type": "markdown",
   "metadata": {},
   "source": [
    "# Comparing with GPU"
   ]
  },
  {
   "cell_type": "raw",
   "metadata": {},
   "source": [
    "device = torch.device(\"cuda:0\" if torch.cuda.is_available() else \"cpu\")\n",
    "print('Use device {}'.format(device))\n",
    "net = auction.BidderStrategy(size_layer=100, nactions=12, device=device)\n",
    "t = timeit.default_timer()\n",
    "net.to(device)\n",
    "print('Exported to {} in {} s'.format(device, timeit.default_timer()-t))"
   ]
  },
  {
   "cell_type": "raw",
   "metadata": {},
   "source": [
    "loss_profile = auction.train_sinkhorn_auction(net, y.to(device), beta.to(device), lamb=lamb, niter_sink=niter_sink, max_iter=niter, device=device,\n",
    "                                              learning_rate=lr, err_threshold=1e-3, verbose=True, verbose_freq=100, size_batch=batch)"
   ]
  },
  {
   "cell_type": "raw",
   "metadata": {},
   "source": [
    "plt.plot(loss_profile)"
   ]
  },
  {
   "cell_type": "markdown",
   "metadata": {},
   "source": [
    "# Test"
   ]
  },
  {
   "cell_type": "code",
   "execution_count": null,
   "metadata": {},
   "outputs": [],
   "source": []
  }
 ],
 "metadata": {
  "kernelspec": {
   "display_name": "Python 3",
   "language": "python",
   "name": "python3"
  },
  "language_info": {
   "codemirror_mode": {
    "name": "ipython",
    "version": 3
   },
   "file_extension": ".py",
   "mimetype": "text/x-python",
   "name": "python",
   "nbconvert_exporter": "python",
   "pygments_lexer": "ipython3",
   "version": "3.6.5"
  }
 },
 "nbformat": 4,
 "nbformat_minor": 2
}
