{
 "cells": [
  {
   "cell_type": "code",
   "execution_count": 1,
   "metadata": {},
   "outputs": [],
   "source": [
    "import torch\n",
    "import numpy as np\n",
    "import auction\n",
    "import torch.nn as nn\n",
    "import torch.nn.functional as F\n",
    "import timeit\n",
    "import sinkhorn\n",
    "import matplotlib.pyplot as plt"
   ]
  },
  {
   "cell_type": "code",
   "execution_count": 2,
   "metadata": {},
   "outputs": [
    {
     "data": {
      "text/plain": [
       "<torch._C.Generator at 0x7fe77ee7e090>"
      ]
     },
     "execution_count": 2,
     "metadata": {},
     "output_type": "execute_result"
    }
   ],
   "source": [
    "manual_seed = 137\n",
    "np.random.seed(seed=manual_seed)\n",
    "torch.manual_seed(manual_seed)"
   ]
  },
  {
   "cell_type": "code",
   "execution_count": 3,
   "metadata": {},
   "outputs": [
    {
     "name": "stdout",
     "output_type": "stream",
     "text": [
      "10000\n",
      "tensor([0.1000, 0.2000, 0.3000, 0.4000, 0.5000, 0.6000, 0.7000, 0.8000, 0.9000,\n",
      "        1.0000])\n",
      "tensor([0.1000, 0.1000, 0.1000, 0.1000, 0.1000, 0.1000, 0.1000, 0.1000, 0.1000,\n",
      "        0.1000])\n"
     ]
    }
   ],
   "source": [
    "#distrib = torch.distributions.Exponential(torch.tensor([1.0]))\n",
    "size_batch = (int)(10**4)\n",
    "print(size_batch)\n",
    "K=10\n",
    "#y = torch.tensor([0.5, 1])\n",
    "y = torch.linspace(1./K, 1., K) # discretization of uniform distribution\n",
    "beta= torch.ones(K)/K\n",
    "print(y)\n",
    "print(beta)"
   ]
  },
  {
   "cell_type": "code",
   "execution_count": 4,
   "metadata": {},
   "outputs": [],
   "source": [
    "net = auction.BidderStrategy(size_layer=100, nactions=12)"
   ]
  },
  {
   "cell_type": "code",
   "execution_count": 5,
   "metadata": {},
   "outputs": [
    {
     "data": {
      "text/plain": [
       "Parameter containing:\n",
       "tensor([[ 0.0322,  0.0393,  0.0247, -0.0043,  0.0095,  0.0288,  0.0187,  0.0227,\n",
       "          0.0314,  0.0366,  0.0475,  0.0298,  0.0293,  0.0411,  0.0218,  0.0174,\n",
       "          0.0216,  0.0311,  0.0271,  0.0248,  0.0185,  0.0242,  0.0218,  0.0037,\n",
       "          0.0098,  0.0262,  0.0389,  0.0137,  0.0146,  0.0112,  0.0177,  0.0173,\n",
       "          0.0220,  0.0083,  0.0105,  0.0074,  0.0107,  0.0267,  0.0379,  0.0030,\n",
       "          0.0195,  0.0181,  0.0116,  0.0363,  0.0185,  0.0237,  0.0260,  0.0227,\n",
       "          0.0275,  0.0139,  0.0338,  0.0321,  0.0158,  0.0270, -0.0004,  0.0235,\n",
       "          0.0222,  0.0108,  0.0149,  0.0128,  0.0233,  0.0231,  0.0265,  0.0111,\n",
       "          0.0272,  0.0038,  0.0161,  0.0217,  0.0172,  0.0242, -0.0038,  0.0364,\n",
       "          0.0289,  0.0083,  0.0265,  0.0207,  0.0147,  0.0127,  0.0128,  0.0016,\n",
       "          0.0319,  0.0134,  0.0062,  0.0373,  0.0055,  0.0162,  0.0049,  0.0241,\n",
       "          0.0162,  0.0127,  0.0193,  0.0299,  0.0282,  0.0106,  0.0318,  0.0240,\n",
       "          0.0313,  0.0407,  0.0167,  0.0325]], requires_grad=True)"
      ]
     },
     "execution_count": 5,
     "metadata": {},
     "output_type": "execute_result"
    }
   ],
   "source": [
    "net.fc2[0].weight"
   ]
  },
  {
   "cell_type": "code",
   "execution_count": 6,
   "metadata": {},
   "outputs": [],
   "source": [
    "distrib = torch.distributions.Exponential(torch.tensor(1.))"
   ]
  },
  {
   "cell_type": "code",
   "execution_count": 7,
   "metadata": {},
   "outputs": [
    {
     "name": "stdout",
     "output_type": "stream",
     "text": [
      "torch.Size([10000, 1])\n"
     ]
    }
   ],
   "source": [
    "input = torch.zeros((size_batch, 1),requires_grad=True)\n",
    "samples = distrib.sample((size_batch, 1))\n",
    "input.data = samples.clone()\n",
    "print(input.size())"
   ]
  },
  {
   "cell_type": "code",
   "execution_count": 8,
   "metadata": {},
   "outputs": [
    {
     "name": "stdout",
     "output_type": "stream",
     "text": [
      "done in 1.1132901899982244 s\n",
      "tensor([[1.3510, 1.2500, 1.1490, 1.0480, 0.9471, 0.8461, 0.7451, 0.6441, 0.5432,\n",
      "         0.4422],\n",
      "        [1.2083, 1.1073, 1.0063, 0.9053, 0.8044, 0.7034, 0.6024, 0.5014, 0.4005,\n",
      "         0.2995],\n",
      "        [1.3694, 1.2684, 1.1674, 1.0665, 0.9655, 0.8645, 0.7635, 0.6626, 0.5616,\n",
      "         0.4606],\n",
      "        [1.4230, 1.3220, 1.2210, 1.1200, 1.0191, 0.9181, 0.8171, 0.7161, 0.6152,\n",
      "         0.5142],\n",
      "        [1.2557, 1.1548, 1.0538, 0.9528, 0.8518, 0.7509, 0.6499, 0.5489, 0.4479,\n",
      "         0.3470],\n",
      "        [1.5409, 1.4399, 1.3390, 1.2380, 1.1370, 1.0360, 0.9351, 0.8341, 0.7331,\n",
      "         0.6321],\n",
      "        [1.4099, 1.3090, 1.2080, 1.1070, 1.0060, 0.9051, 0.8041, 0.7031, 0.6021,\n",
      "         0.5012],\n",
      "        [1.2816, 1.1806, 1.0796, 0.9786, 0.8777, 0.7767, 0.6757, 0.5747, 0.4738,\n",
      "         0.3728],\n",
      "        [1.4253, 1.3243, 1.2233, 1.1223, 1.0214, 0.9204, 0.8194, 0.7184, 0.6175,\n",
      "         0.5165],\n",
      "        [1.5076, 1.4066, 1.3056, 1.2047, 1.1037, 1.0027, 0.9017, 0.8008, 0.6998,\n",
      "         0.5988],\n",
      "        [1.3055, 1.2046, 1.1036, 1.0026, 0.9016, 0.8007, 0.6997, 0.5987, 0.4977,\n",
      "         0.3968],\n",
      "        [1.4533, 1.3523, 1.2513, 1.1503, 1.0493, 0.9484, 0.8474, 0.7464, 0.6454,\n",
      "         0.5445]], grad_fn=<CopySlices>)\n"
     ]
    }
   ],
   "source": [
    "time = timeit.default_timer()\n",
    "C = auction.LazySecondPriceLoss(net, input, y, size_batch, distribution=\"exponential\")\n",
    "print('done in {0} s'.format(timeit.default_timer()-time))\n",
    "print(C)"
   ]
  },
  {
   "cell_type": "markdown",
   "metadata": {},
   "source": [
    "# Sinkhorn"
   ]
  },
  {
   "cell_type": "raw",
   "metadata": {},
   "source": [
    "lamb = 0.05\n",
    "niter_sink = 20\n",
    "err_threshold = 1e-3"
   ]
  },
  {
   "cell_type": "raw",
   "metadata": {},
   "source": [
    "alpha, _ = net(input)"
   ]
  },
  {
   "cell_type": "raw",
   "metadata": {},
   "source": [
    "loss, gamma = sinkhorn.sinkhorn_loss_primal(alpha, C, beta, y, lamb, niter=niter_sink, cost=\"matrix\", err_threshold=err_threshold, verbose=False)"
   ]
  },
  {
   "cell_type": "raw",
   "metadata": {},
   "source": [
    "print(alpha)\n",
    "print()\n",
    "print(torch.sum(gamma, dim=1))\n",
    "print('--'*20)\n",
    "print(beta)\n",
    "print(torch.sum(gamma, dim=0))"
   ]
  },
  {
   "cell_type": "markdown",
   "metadata": {},
   "source": [
    "## Train network"
   ]
  },
  {
   "cell_type": "code",
   "execution_count": 9,
   "metadata": {},
   "outputs": [],
   "source": [
    "net = auction.BidderStrategy(size_layer=100, nactions=12)\n",
    "net.projection()\n",
    "lamb = 0.01\n",
    "niter_sink = 100\n",
    "niter = 300\n",
    "lr = 0.01\n",
    "batch = 1000"
   ]
  },
  {
   "cell_type": "code",
   "execution_count": 10,
   "metadata": {},
   "outputs": [
    {
     "name": "stdout",
     "output_type": "stream",
     "text": [
      "Loss at iterations 100: 0.44831913709640503\n",
      "Loss at iterations 200: 0.47912973165512085\n",
      "Loss at iterations 300: 0.4723961055278778\n",
      "done in 20.63096081399999 s\n"
     ]
    }
   ],
   "source": [
    "loss_profile = auction.train_sinkhorn_auction(net, y, beta, lamb=lamb, niter_sink=niter_sink, max_iter=niter, \n",
    "                                              learning_rate=lr, err_threshold=1e-3, verbose=True, verbose_freq=100, size_batch=batch)"
   ]
  },
  {
   "cell_type": "code",
   "execution_count": 11,
   "metadata": {},
   "outputs": [
    {
     "data": {
      "text/plain": [
       "[<matplotlib.lines.Line2D at 0x7fe7705fdd68>]"
      ]
     },
     "execution_count": 11,
     "metadata": {},
     "output_type": "execute_result"
    },
    {
     "data": {
      "image/png": "[encoded data removed]",
      "text/plain": [
       "<matplotlib.figure.Figure at 0x7fe7e838aa90>"
      ]
     },
     "metadata": {},
     "output_type": "display_data"
    }
   ],
   "source": [
    "plt.plot(loss_profile)"
   ]
  },
  {
   "cell_type": "code",
   "execution_count": 12,
   "metadata": {},
   "outputs": [],
   "source": [
    "loss, gamma, C = auction.eval(net, y, beta, lamb=lamb, niter_sink=(int)(1e5), size_batch=100000)"
   ]
  },
  {
   "cell_type": "code",
   "execution_count": 13,
   "metadata": {},
   "outputs": [
    {
     "name": "stdout",
     "output_type": "stream",
     "text": [
      "True loss:0.4649014472961426\n",
      "Utility loss:0.4649014472961426\n",
      "Privacy loss:-1.0282176390319364e-06\n"
     ]
    }
   ],
   "source": [
    "print('True loss:{}'.format(loss))\n",
    "print('Utility loss:{}'.format(torch.sum(gamma*C)))\n",
    "alpha = net.alpha()\n",
    "print('Privacy loss:{}'.format(sinkhorn._KL(alpha, beta, gamma, epsilon=0)))"
   ]
  },
  {
   "cell_type": "code",
   "execution_count": 14,
   "metadata": {},
   "outputs": [
    {
     "data": {
      "image/png": "[encoded data removed]",
      "text/plain": [
       "<matplotlib.figure.Figure at 0x7fe7705af0f0>"
      ]
     },
     "metadata": {},
     "output_type": "display_data"
    }
   ],
   "source": [
    "plt.imshow(gamma.detach().numpy(), cmap='hot')\n",
    "plt.show()"
   ]
  },
  {
   "cell_type": "code",
   "execution_count": 15,
   "metadata": {},
   "outputs": [
    {
     "data": {
      "image/png": "[encoded data removed]",
      "text/plain": [
       "<matplotlib.figure.Figure at 0x7fe77c9bf8d0>"
      ]
     },
     "metadata": {},
     "output_type": "display_data"
    }
   ],
   "source": [
    "plt.imshow(C.detach().numpy(), cmap='hot')\n",
    "plt.show()"
   ]
  },
  {
   "cell_type": "markdown",
   "metadata": {},
   "source": [
    "# Comparing with GPU"
   ]
  },
  {
   "cell_type": "code",
   "execution_count": 14,
   "metadata": {},
   "outputs": [
    {
     "name": "stdout",
     "output_type": "stream",
     "text": [
      "Use device cuda:0\n",
      "Exported to cuda:0 in 0.0008730709996598307 s\n"
     ]
    }
   ],
   "source": [
    "device = torch.device(\"cuda:0\" if torch.cuda.is_available() else \"cpu\")\n",
    "print('Use device {}'.format(device))\n",
    "net = auction.BidderStrategy(size_layer=100, nactions=12, device=device)\n",
    "t = timeit.default_timer()\n",
    "net.to(device)\n",
    "print('Exported to {} in {} s'.format(device, timeit.default_timer()-t))"
   ]
  },
  {
   "cell_type": "code",
   "execution_count": 15,
   "metadata": {},
   "outputs": [
    {
     "name": "stdout",
     "output_type": "stream",
     "text": [
      "Loss at iterations 100: 0.5407759547233582\n",
      "Loss at iterations 200: 0.49048399925231934\n",
      "Loss at iterations 300: 0.5052505731582642\n",
      "Loss at iterations 400: 0.4579058885574341\n",
      "Loss at iterations 500: 0.4759369492530823\n",
      "Loss at iterations 600: 0.48087358474731445\n",
      "Loss at iterations 700: 0.4989890456199646\n",
      "Loss at iterations 800: 0.4441834092140198\n",
      "Loss at iterations 900: 0.46767282485961914\n",
      "Loss at iterations 1000: 0.4851957857608795\n",
      "done in 38.26735725799972 s\n"
     ]
    }
   ],
   "source": [
    "loss_profile = auction.train_sinkhorn_auction(net, y.to(device), beta.to(device), lamb=lamb, niter_sink=niter_sink, max_iter=niter, device=device,\n",
    "                                              learning_rate=lr, err_threshold=1e-3, verbose=True, verbose_freq=100, size_batch=batch)"
   ]
  },
  {
   "cell_type": "code",
   "execution_count": 16,
   "metadata": {},
   "outputs": [
    {
     "data": {
      "text/plain": [
       "[<matplotlib.lines.Line2D at 0x7f9ac6da1470>]"
      ]
     },
     "execution_count": 16,
     "metadata": {},
     "output_type": "execute_result"
    },
    {
     "data": {
      "image/png": "[encoded data removed]",
      "text/plain": [
       "<matplotlib.figure.Figure at 0x7f9ac40998d0>"
      ]
     },
     "metadata": {},
     "output_type": "display_data"
    }
   ],
   "source": [
    "plt.plot(loss_profile)"
   ]
  },
  {
   "cell_type": "code",
   "execution_count": null,
   "metadata": {},
   "outputs": [],
   "source": []
  }
 ],
 "metadata": {
  "kernelspec": {
   "display_name": "Python 3",
   "language": "python",
   "name": "python3"
  },
  "language_info": {
   "codemirror_mode": {
    "name": "ipython",
    "version": 3
   },
   "file_extension": ".py",
   "mimetype": "text/x-python",
   "name": "python",
   "nbconvert_exporter": "python",
   "pygments_lexer": "ipython3",
   "version": "3.6.8"
  }
 },
 "nbformat": 4,
 "nbformat_minor": 2
}
