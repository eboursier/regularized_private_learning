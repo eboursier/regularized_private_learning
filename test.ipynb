{
 "cells": [
  {
   "cell_type": "code",
   "execution_count": 1,
   "metadata": {},
   "outputs": [],
   "source": [
    "import torch\n",
    "import numpy as np\n",
    "import auction\n",
    "import torch.nn as nn\n",
    "import torch.nn.functional as F\n",
    "import timeit\n",
    "import sinkhorn\n",
    "import matplotlib.pyplot as plt"
   ]
  },
  {
   "cell_type": "code",
   "execution_count": 2,
   "metadata": {},
   "outputs": [
    {
     "data": {
      "text/plain": [
       "<torch._C.Generator at 0x7f32900b9b10>"
      ]
     },
     "execution_count": 2,
     "metadata": {},
     "output_type": "execute_result"
    }
   ],
   "source": [
    "manual_seed = 137\n",
    "np.random.seed(seed=manual_seed)\n",
    "torch.manual_seed(manual_seed)"
   ]
  },
  {
   "cell_type": "code",
   "execution_count": 3,
   "metadata": {},
   "outputs": [
    {
     "name": "stdout",
     "output_type": "stream",
     "text": [
      "100000\n",
      "tensor([0.1000, 0.2000, 0.3000, 0.4000, 0.5000, 0.6000, 0.7000, 0.8000, 0.9000,\n",
      "        1.0000])\n",
      "tensor([0.1000, 0.1000, 0.1000, 0.1000, 0.1000, 0.1000, 0.1000, 0.1000, 0.1000,\n",
      "        0.1000])\n"
     ]
    }
   ],
   "source": [
    "#distrib = torch.distributions.Exponential(torch.tensor([1.0]))\n",
    "size_batch = (int)(10**5)\n",
    "print(size_batch)\n",
    "K=10\n",
    "#y = torch.tensor([0.5, 1])\n",
    "y = torch.linspace(1./K, 1., K) # discretization of uniform distribution\n",
    "beta= torch.ones(K)/K\n",
    "print(y)\n",
    "print(beta)"
   ]
  },
  {
   "cell_type": "code",
   "execution_count": 4,
   "metadata": {},
   "outputs": [],
   "source": [
    "net = auction.BidderStrategy(size_layer=200, nactions=12)"
   ]
  },
  {
   "cell_type": "code",
   "execution_count": 5,
   "metadata": {},
   "outputs": [],
   "source": [
    "distrib = torch.distributions.Exponential(torch.tensor(1.))"
   ]
  },
  {
   "cell_type": "code",
   "execution_count": 6,
   "metadata": {},
   "outputs": [
    {
     "name": "stdout",
     "output_type": "stream",
     "text": [
      "torch.Size([100000, 1])\n"
     ]
    }
   ],
   "source": [
    "input = torch.zeros((size_batch, 1),requires_grad=True)\n",
    "samples = distrib.sample((size_batch, 1))\n",
    "input.data = samples.clone()\n",
    "print(input.size())"
   ]
  },
  {
   "cell_type": "code",
   "execution_count": 7,
   "metadata": {},
   "outputs": [
    {
     "name": "stdout",
     "output_type": "stream",
     "text": [
      "done in 1.5087828299983812 s\n"
     ]
    }
   ],
   "source": [
    "time = timeit.default_timer()\n",
    "C = auction.LazySecondPriceLoss(net, input, y, size_batch, distribution=\"exponential\")\n",
    "print('done in {0} s'.format(timeit.default_timer()-time))"
   ]
  },
  {
   "cell_type": "markdown",
   "metadata": {},
   "source": [
    "# Sinkhorn"
   ]
  },
  {
   "cell_type": "code",
   "execution_count": 8,
   "metadata": {},
   "outputs": [],
   "source": [
    "lamb = 0.05\n",
    "niter_sink = 20\n",
    "err_threshold = 1e-3"
   ]
  },
  {
   "cell_type": "code",
   "execution_count": 9,
   "metadata": {},
   "outputs": [],
   "source": [
    "alpha, _ = net(input)"
   ]
  },
  {
   "cell_type": "code",
   "execution_count": 10,
   "metadata": {},
   "outputs": [],
   "source": [
    "loss, gamma = sinkhorn.sinkhorn_loss_primal(alpha, C, beta, y, lamb, niter=niter_sink, cost=\"matrix\", err_threshold=err_threshold, verbose=False)"
   ]
  },
  {
   "cell_type": "code",
   "execution_count": 11,
   "metadata": {},
   "outputs": [
    {
     "name": "stdout",
     "output_type": "stream",
     "text": [
      "tensor([0.0617, 0.0661, 0.0824, 0.1005, 0.1203, 0.0547, 0.1123, 0.0758, 0.0842,\n",
      "        0.1035, 0.0722, 0.0662], grad_fn=<SoftmaxBackward>)\n",
      "\n",
      "tensor([0.0618, 0.0662, 0.0825, 0.1005, 0.1203, 0.0547, 0.1122, 0.0758, 0.0842,\n",
      "        0.1035, 0.0721, 0.0662], grad_fn=<SumBackward2>)\n",
      "----------------------------------------\n",
      "tensor([0.1000, 0.1000, 0.1000, 0.1000, 0.1000, 0.1000, 0.1000, 0.1000, 0.1000,\n",
      "        0.1000])\n",
      "tensor([0.1000, 0.1000, 0.1000, 0.1000, 0.1000, 0.1000, 0.1000, 0.1000, 0.1000,\n",
      "        0.1000], grad_fn=<SumBackward2>)\n"
     ]
    }
   ],
   "source": [
    "print(alpha)\n",
    "print()\n",
    "print(torch.sum(gamma, dim=1))\n",
    "print('--'*20)\n",
    "print(beta)\n",
    "print(torch.sum(gamma, dim=0))"
   ]
  },
  {
   "cell_type": "markdown",
   "metadata": {},
   "source": [
    "## Train network"
   ]
  },
  {
   "cell_type": "code",
   "execution_count": 12,
   "metadata": {},
   "outputs": [],
   "source": [
    "net = auction.BidderStrategy(size_layer=200, nactions=12)\n",
    "lamb = 0.01\n",
    "niter_sink = 20\n",
    "niter = 200\n",
    "lr = 0.01\n",
    "batch = 10000"
   ]
  },
  {
   "cell_type": "code",
   "execution_count": 13,
   "metadata": {},
   "outputs": [
    {
     "name": "stdout",
     "output_type": "stream",
     "text": [
      "Loss at iterations 100: 0.6027765274047852\n",
      "Loss at iterations 200: 0.48900431394577026\n",
      "done in 56.339971711000544 s\n"
     ]
    }
   ],
   "source": [
    "loss_profile = auction.train_sinkhorn_auction(net, y, beta, lamb=lamb, niter_sink=niter_sink, max_iter=niter, \n",
    "                                              learning_rate=lr, err_threshold=1e-3, verbose=True, verbose_freq=100, size_batch=batch)"
   ]
  },
  {
   "cell_type": "code",
   "execution_count": 14,
   "metadata": {},
   "outputs": [
    {
     "data": {
      "text/plain": [
       "[<matplotlib.lines.Line2D at 0x7f3269aa9240>]"
      ]
     },
     "execution_count": 14,
     "metadata": {},
     "output_type": "execute_result"
    },
    {
     "data": {
      "image/png": "[encoded data removed]",
      "text/plain": [
       "<Figure size 432x288 with 1 Axes>"
      ]
     },
     "metadata": {},
     "output_type": "display_data"
    }
   ],
   "source": [
    "plt.plot(loss_profile)"
   ]
  },
  {
   "cell_type": "code",
   "execution_count": 15,
   "metadata": {},
   "outputs": [],
   "source": [
    "loss, gamma, C = auction.eval(net, y, beta, lamb=lamb, niter_sink=100, size_batch=100000)"
   ]
  },
  {
   "cell_type": "code",
   "execution_count": 16,
   "metadata": {},
   "outputs": [
    {
     "name": "stdout",
     "output_type": "stream",
     "text": [
      "True loss:0.499358206987381\n",
      "Utility loss:0.4953839182853699\n",
      "Privacy loss:0.39746615290641785\n"
     ]
    }
   ],
   "source": [
    "print('True loss:{}'.format(loss))\n",
    "print('Utility loss:{}'.format(torch.sum(gamma*C)))\n",
    "alpha = net.alpha()\n",
    "print('Privacy loss:{}'.format(sinkhorn._KL(alpha, beta, gamma, epsilon=0)))"
   ]
  },
  {
   "cell_type": "markdown",
   "metadata": {},
   "source": [
    "# Test"
   ]
  },
  {
   "cell_type": "code",
   "execution_count": null,
   "metadata": {},
   "outputs": [],
   "source": []
  }
 ],
 "metadata": {
  "kernelspec": {
   "display_name": "Python 3",
   "language": "python",
   "name": "python3"
  },
  "language_info": {
   "codemirror_mode": {
    "name": "ipython",
    "version": 3
   },
   "file_extension": ".py",
   "mimetype": "text/x-python",
   "name": "python",
   "nbconvert_exporter": "python",
   "pygments_lexer": "ipython3",
   "version": "3.6.5"
  }
 },
 "nbformat": 4,
 "nbformat_minor": 2
}
